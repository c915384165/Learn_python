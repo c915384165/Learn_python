{
 "cells": [
  {
   "cell_type": "code",
   "execution_count": 1,
   "metadata": {},
   "outputs": [],
   "source": [
    "import csv"
   ]
  },
  {
   "cell_type": "code",
   "execution_count": 12,
   "metadata": {},
   "outputs": [
    {
     "name": "stdout",
     "output_type": "stream",
     "text": [
      "[['城市', '环比', '同比', '定基'], ['北京', '101.5', '120.7', '121.4'], ['上海', '101.2', '127.3', '127.8'], ['广州', '101.3', '119.4', '120.0'], ['深圳', '103.0', '140.9', '145.5'], ['沈阳', '100.1', '101.4', '101.6']]\n"
     ]
    }
   ],
   "source": [
    "file_name = 'csv.csv'\n",
    "\n",
    "fo = open(file_name, 'r')\n",
    "\n",
    "ls = []\n",
    "\n",
    "for line in fo:\n",
    "    line = line.replace(\"\\n\", \"\")\n",
    "    ls.append(line.split(\",\"))\n",
    "print(ls)\n",
    "fo.close()"
   ]
  },
  {
   "cell_type": "markdown",
   "metadata": {},
   "source": [
    "读取文件，转化成二维列表"
   ]
  },
  {
   "cell_type": "code",
   "execution_count": 15,
   "metadata": {},
   "outputs": [
    {
     "name": "stdout",
     "output_type": "stream",
     "text": [
      "城市,环比,同比,定基\n",
      "\n",
      "北京,101.5,120.7,121.4\n",
      "\n",
      "上海,101.2,127.3,127.8\n",
      "\n",
      "广州,101.3,119.4,120.0\n",
      "\n",
      "深圳,103.0,140.9,145.5\n",
      "\n",
      "沈阳,100.1,101.4,101.6\n",
      "\n",
      "[]\n"
     ]
    }
   ],
   "source": [
    "file_name = 'csv.csv'\n",
    "\n",
    "fo = open(file_name, 'rt')\n",
    "\n",
    "ls = []\n",
    "\n",
    "for line in fo:\n",
    "    print(line)\n",
    "print(ls)\n",
    "fo.close()"
   ]
  },
  {
   "cell_type": "code",
   "execution_count": null,
   "metadata": {},
   "outputs": [],
   "source": []
  }
 ],
 "metadata": {
  "kernelspec": {
   "display_name": "Python 3",
   "language": "python",
   "name": "python3"
  },
  "language_info": {
   "codemirror_mode": {
    "name": "ipython",
    "version": 3
   },
   "file_extension": ".py",
   "mimetype": "text/x-python",
   "name": "python",
   "nbconvert_exporter": "python",
   "pygments_lexer": "ipython3",
   "version": "3.7.2"
  }
 },
 "nbformat": 4,
 "nbformat_minor": 2
}
