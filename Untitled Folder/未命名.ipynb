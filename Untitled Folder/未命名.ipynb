{
 "cells": [
  {
   "cell_type": "code",
   "execution_count": 1,
   "metadata": {},
   "outputs": [],
   "source": [
    "d = {\"a\":1,\"b\":2}"
   ]
  },
  {
   "cell_type": "code",
   "execution_count": 2,
   "metadata": {},
   "outputs": [
    {
     "data": {
      "text/plain": [
       "True"
      ]
     },
     "execution_count": 2,
     "metadata": {},
     "output_type": "execute_result"
    }
   ],
   "source": [
    "\"a\" in d"
   ]
  },
  {
   "cell_type": "code",
   "execution_count": 3,
   "metadata": {},
   "outputs": [
    {
     "data": {
      "text/plain": [
       "False"
      ]
     },
     "execution_count": 3,
     "metadata": {},
     "output_type": "execute_result"
    }
   ],
   "source": [
    "2 in d"
   ]
  },
  {
   "cell_type": "code",
   "execution_count": 4,
   "metadata": {},
   "outputs": [],
   "source": [
    "a = {}"
   ]
  },
  {
   "cell_type": "code",
   "execution_count": 5,
   "metadata": {},
   "outputs": [
    {
     "data": {
      "text/plain": [
       "dict"
      ]
     },
     "execution_count": 5,
     "metadata": {},
     "output_type": "execute_result"
    }
   ],
   "source": [
    "type(a)"
   ]
  },
  {
   "cell_type": "code",
   "execution_count": 6,
   "metadata": {},
   "outputs": [],
   "source": [
    "a = {1,2,3}"
   ]
  },
  {
   "cell_type": "code",
   "execution_count": 7,
   "metadata": {},
   "outputs": [
    {
     "data": {
      "text/plain": [
       "set"
      ]
     },
     "execution_count": 7,
     "metadata": {},
     "output_type": "execute_result"
    }
   ],
   "source": [
    "type(a)"
   ]
  },
  {
   "cell_type": "code",
   "execution_count": 8,
   "metadata": {},
   "outputs": [],
   "source": [
    "b = {2,3,4}"
   ]
  },
  {
   "cell_type": "code",
   "execution_count": 9,
   "metadata": {},
   "outputs": [
    {
     "data": {
      "text/plain": [
       "{1, 4}"
      ]
     },
     "execution_count": 9,
     "metadata": {},
     "output_type": "execute_result"
    }
   ],
   "source": [
    "a^b"
   ]
  },
  {
   "cell_type": "code",
   "execution_count": 10,
   "metadata": {},
   "outputs": [
    {
     "name": "stdout",
     "output_type": "stream",
     "text": [
      "3\n"
     ]
    }
   ],
   "source": [
    "d= {'a': 1, 'b': 2, 'b': '3'}\n",
    "print(d['b'])"
   ]
  },
  {
   "cell_type": "code",
   "execution_count": 11,
   "metadata": {},
   "outputs": [],
   "source": [
    "a = (\"1\", 1)"
   ]
  },
  {
   "cell_type": "code",
   "execution_count": 12,
   "metadata": {},
   "outputs": [
    {
     "data": {
      "text/plain": [
       "tuple"
      ]
     },
     "execution_count": 12,
     "metadata": {},
     "output_type": "execute_result"
    }
   ],
   "source": [
    "type(a)"
   ]
  },
  {
   "cell_type": "code",
   "execution_count": 15,
   "metadata": {},
   "outputs": [
    {
     "name": "stdout",
     "output_type": "stream",
     "text": [
      "input a int numbere3345\n",
      "{'5', '3', '4'}\n"
     ]
    }
   ],
   "source": [
    "input_int = input(\"input a int numbere\")\n",
    "a = set(list(input_int))\n",
    "\n",
    "\n",
    "def sum_t(tup):\n",
    "    sum = 0\n",
    "    for i in a:\n",
    "        sum += int(i)\n",
    "    return sum\n",
    "\n",
    "sum_t(a)"
   ]
  },
  {
   "cell_type": "code",
   "execution_count": 33,
   "metadata": {},
   "outputs": [
    {
     "name": "stdout",
     "output_type": "stream",
     "text": [
      "赵敏\n"
     ]
    }
   ],
   "source": [
    "s = '''双儿 洪七公 赵敏 赵敏 逍遥子 鳌拜 殷天正 金轮法王 乔峰 杨过 洪七公 郭靖 \n",
    "       杨逍 鳌拜 殷天正 段誉 杨逍 慕容复 阿紫 慕容复 郭芙 乔峰 令狐冲 郭芙 \n",
    "       金轮法王 小龙女 杨过 慕容复 梅超风 李莫愁 洪七公 张无忌 梅超风 杨逍 \n",
    "       鳌拜 岳不群 黄药师 黄蓉 段誉 金轮法王 忽必烈 忽必烈 张三丰 乔峰 乔峰 \n",
    "       阿紫 乔峰 金轮法王 袁冠南 张无忌 郭襄 黄蓉 李莫愁 赵敏 赵敏 郭芙 张三丰 \n",
    "       乔峰 赵敏 梅超风 双儿 鳌拜 陈家洛 袁冠南 郭芙 郭芙 杨逍 赵敏 金轮法王 \n",
    "       忽必烈 慕容复 张三丰 赵敏 杨逍 令狐冲 黄药师 袁冠南 杨逍 完颜洪烈 殷天正 \n",
    "       李莫愁 阿紫 逍遥子 乔峰 逍遥子 完颜洪烈 郭芙 杨逍 张无忌 杨过 慕容复 \n",
    "       逍遥子 虚竹 双儿 乔峰 郭芙 黄蓉 李莫愁 陈家洛 杨过 忽必烈 鳌拜 王语嫣 \n",
    "       洪七公 韦小宝 阿朱 梅超风 段誉 岳灵珊 完颜洪烈 乔峰 段誉 杨过 杨过 慕容复 \n",
    "       黄蓉 杨过 阿紫 杨逍 张三丰 张三丰 赵敏 张三丰 杨逍 黄蓉 金轮法王 郭襄 \n",
    "       张三丰 令狐冲 赵敏 郭芙 韦小宝 黄药师 阿紫 韦小宝 金轮法王 杨逍 令狐冲 阿紫 \n",
    "       洪七公 袁冠南 双儿 郭靖 鳌拜 谢逊 阿紫 郭襄 梅超风 张无忌 段誉 忽必烈 \n",
    "       完颜洪烈 双儿 逍遥子 谢逊 完颜洪烈 殷天正 金轮法王 张三丰 双儿 郭襄 阿朱 \n",
    "       郭襄 双儿 李莫愁 郭襄 忽必烈 金轮法王 张无忌 鳌拜 忽必烈 郭襄 令狐冲 \n",
    "       谢逊 梅超风 殷天正 段誉 袁冠南 张三丰 王语嫣 阿紫 谢逊 杨过 郭靖 黄蓉 \n",
    "       双儿 灭绝师太 段誉 张无忌 陈家洛 黄蓉 鳌拜 黄药师 逍遥子 忽必烈 赵敏 \n",
    "       逍遥子 完颜洪烈 金轮法王 双儿 鳌拜 洪七公 郭芙 郭襄 赵敏'''\n",
    "\n",
    "words  = s.split()\n",
    "\n",
    "counts = {}\n",
    "\n",
    "\n",
    "for word in words:\n",
    "    if len(word) == 1:\n",
    "        continue\n",
    "    else:\n",
    "        counts[word] = counts.get(word,0) + 1\n",
    "\n",
    "items = list(counts.items())\n",
    "items.sort(key=lambda x:x[1], reverse=True) \n",
    "print(items[0][0])\n"
   ]
  },
  {
   "cell_type": "code",
   "execution_count": null,
   "metadata": {},
   "outputs": [],
   "source": [
    "\n",
    "items = list(counts.items())\n",
    "items.sort(key=lambda x:x[1], reverse=True) \n",
    "for i in range(15):\n",
    "    word, count = items[i]\n",
    "    print (\"{0:<10}{1:>5}\".format(word, count))\n",
    "print(items[0])"
   ]
  },
  {
   "cell_type": "code",
   "execution_count": 48,
   "metadata": {},
   "outputs": [
    {
     "name": "stdout",
     "output_type": "stream",
     "text": [
      "49\n"
     ]
    }
   ],
   "source": [
    "f = open('latex.log', 'r', encoding='utf-8')\n",
    "t = f.readlines()\n",
    "f.close()\n",
    "line_index = []\n",
    "for i in t:\n",
    "    if len(i) > 1:\n",
    "        line_index.append(len(i))\n",
    "sum = 0\n",
    "for i in line_index:\n",
    "    sum += int(i)\n",
    "print(int(sum/len(line_index)))\n"
   ]
  },
  {
   "cell_type": "code",
   "execution_count": 215,
   "metadata": {},
   "outputs": [
    {
     "name": "stdout",
     "output_type": "stream",
     "text": [
      "3;8;6;1;7;4;2;5\n",
      "'k';'j';'i';'c';'z';'x';'b';'y';'a'\n",
      "'x';'y';'j';'i';'k';'a';'b';'c';'z'\n",
      "'x';'a';'z';'y';'i';'c';'j';'b';'k'\n",
      "'k';'j';'i';'z';'y';'x';'c';'b';'a'\n",
      "2;4;7;5;8;3;1;6\n",
      "5;6;4;1;7;2;3;8\n",
      "7;6;5;4;3;2;1\n"
     ]
    }
   ],
   "source": [
    "f = open('data.csv', 'r', encoding='utf-8')\n",
    "t=f.readlines()\n",
    "# print(t)\n",
    "ls = []\n",
    "for i in t:\n",
    "    i = i.replace('\\n','')\n",
    "    i = i.replace(' ', '')\n",
    "    ls.append(i[::-1])\n",
    "#     print(i[::-1])\n",
    "ls.reverse()\n",
    "for i in ls:\n",
    "    i = i.replace(',', ';')\n",
    "    print(i)\n"
   ]
  },
  {
   "cell_type": "code",
   "execution_count": 202,
   "metadata": {},
   "outputs": [
    {
     "name": "stdout",
     "output_type": "stream",
     "text": [
      "['3 ,8 ,6 ,1 ,7 ,4 ,2 ,5', \"'k' ,'j' ,'i' ,'c' ,'z' ,'x' ,'b' ,'y' ,'a'\", \"'x' ,'y' ,'j' ,'i' ,'k' ,'a' ,'b' ,'c' ,'z'\", \"'x' ,'a' ,'z' ,'y' ,'i' ,'c' ,'j' ,'b' ,'k'\", \"'k','j','i','z','y','x','c','b','a'\", '2 ,4 ,7 ,5 ,8 ,3 ,1 ,6', '5 ,6 ,4 ,1 ,7 ,2 ,3 ,8', '7,6,5,4,3,2,1']\n"
     ]
    }
   ],
   "source": [
    "f = open('data.csv', 'r', encoding='utf-8')\n",
    "l = []\n",
    "f.seek(0)\n",
    "for i in f:\n",
    "    i = str(i)[::-1]\n",
    "    i = i.replace(\"\\n\",\"\")\n",
    "#     i = i.replace(\",\",\"\")\n",
    "#     i = i.replace(\" \",\"\")\n",
    "#     i = i.replace(\"'\",\"\")\n",
    "    l.append(i)\n",
    "l.reverse()\n",
    "print(l)\n",
    "\n",
    "# for i in l: \n",
    "#     print(\";\".join(i))\n",
    "\n",
    "f.close()\n",
    "\n"
   ]
  },
  {
   "cell_type": "code",
   "execution_count": 193,
   "metadata": {},
   "outputs": [
    {
     "name": "stdout",
     "output_type": "stream",
     "text": [
      "['1,2,3,4,5,6,7\\n', '8, 3, 2, 7, 1, 4, 6, 5\\n', '6, 1, 3, 8, 5, 7, 4, 2\\n', \"'a','b','c','x','y','z','i','j','k'\\n\", \"'k', 'b', 'j', 'c', 'i', 'y', 'z', 'a', 'x'\\n\", \"'z', 'c', 'b', 'a', 'k', 'i', 'j', 'y', 'x'\\n\", \"'a', 'y', 'b', 'x', 'z', 'c', 'i', 'j', 'k'\\n\", '5, 2, 4, 7, 1, 6, 8, 3']\n"
     ]
    }
   ],
   "source": [
    "f = open('data.csv', 'r', encoding='utf-8')\n",
    "f.seek(0)\n",
    "t = f.readlines()\n",
    "print(t)"
   ]
  },
  {
   "cell_type": "code",
   "execution_count": null,
   "metadata": {},
   "outputs": [],
   "source": []
  }
 ],
 "metadata": {
  "kernelspec": {
   "display_name": "Python 3",
   "language": "python",
   "name": "python3"
  },
  "language_info": {
   "codemirror_mode": {
    "name": "ipython",
    "version": 3
   },
   "file_extension": ".py",
   "mimetype": "text/x-python",
   "name": "python",
   "nbconvert_exporter": "python",
   "pygments_lexer": "ipython3",
   "version": "3.7.2"
  }
 },
 "nbformat": 4,
 "nbformat_minor": 2
}
