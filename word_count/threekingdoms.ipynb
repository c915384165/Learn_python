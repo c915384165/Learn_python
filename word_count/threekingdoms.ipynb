{
 "cells": [
  {
   "cell_type": "markdown",
   "metadata": {},
   "source": [
    "导入jieba库"
   ]
  },
  {
   "cell_type": "code",
   "execution_count": 39,
   "metadata": {},
   "outputs": [],
   "source": [
    "import jieba"
   ]
  },
  {
   "cell_type": "markdown",
   "metadata": {},
   "source": [
    "读取文档"
   ]
  },
  {
   "cell_type": "code",
   "execution_count": 40,
   "metadata": {},
   "outputs": [],
   "source": [
    "def getText_cn(textName, chName='cn_signs.txt'):\n",
    "    \"\"\"打开一个纯文本文件，并替换掉符号，返回一个来字符串列表或空格分隔的长字符串，\"\"\"\n",
    "    \"\"\"\n",
    "    输入:\n",
    "        $1: 读取的文档\n",
    "        $2: 用来替换成空格的标点, 默认打开 cn_signs.txt\n",
    "    输出:\n",
    "        分词列表\n",
    "        \"\"\"\n",
    "    txt = open(textName, 'r', encoding='utf-8').read()  # 打开文档，读取数据到txt\n",
    "    if chName != '':\n",
    "        signs = open(chName, 'r').read()  # 导入标点文档，\n",
    "        for ch in signs:\n",
    "            txt = txt.replace(ch, \"\")  # 用空格代替所有标点\n",
    "    return jieba.lcut(txt)"
   ]
  },
  {
   "cell_type": "raw",
   "metadata": {},
   "source": [
    "计数"
   ]
  },
  {
   "cell_type": "code",
   "execution_count": 41,
   "metadata": {},
   "outputs": [],
   "source": [
    "def count_words(words_list):\n",
    "    \"\"\"输入一个列表，统计列表中每个元素出现的频率\n",
    "    ，并生成一个字典，以元素名为key，以出现次数为value\"\"\"\n",
    "    counts = {}\n",
    "    for word in words_list:\n",
    "        counts[word] = counts.get(word, 0) + 1\n",
    "    return counts"
   ]
  },
  {
   "cell_type": "markdown",
   "metadata": {},
   "source": [
    "删除排除的词"
   ]
  },
  {
   "cell_type": "code",
   "execution_count": 42,
   "metadata": {},
   "outputs": [],
   "source": [
    "def rm_from_excludes(dic_name, excludes_file=\"excludes.txt\"):\n",
    "    \"\"\"从字典中去掉 excludes文件包含的词\"\"\"\n",
    "    excludes = getText(excludes_file, 'l')\n",
    "    for word in excludes:\n",
    "        del dic_name[word]"
   ]
  },
  {
   "cell_type": "markdown",
   "metadata": {},
   "source": [
    "按照次数排序"
   ]
  },
  {
   "cell_type": "code",
   "execution_count": 43,
   "metadata": {},
   "outputs": [],
   "source": [
    "def dic_sort_ByValue(dic_name, reverse=False):\n",
    "    \"\"\"重新排序词典，按照词频出现的次数\"\"\"\n",
    "    items = list(dic_name.items())\n",
    "    items.sort(key=lambda x: x[1], reverse=reverse)\n",
    "    return items"
   ]
  },
  {
   "cell_type": "markdown",
   "metadata": {},
   "source": [
    "打印"
   ]
  },
  {
   "cell_type": "code",
   "execution_count": 44,
   "metadata": {},
   "outputs": [],
   "source": [
    "def print_topN(n, items):\n",
    "    for i in range(n):\n",
    "        word, count = items[i]\n",
    "        print(\"{0:<10}{1:>5}\".format(word, count))"
   ]
  },
  {
   "cell_type": "code",
   "execution_count": 45,
   "metadata": {},
   "outputs": [],
   "source": [
    "textName = 'threekingdoms.txt'"
   ]
  },
  {
   "cell_type": "code",
   "execution_count": 46,
   "metadata": {},
   "outputs": [],
   "source": [
    "txt = open(textName, 'r', encoding='utf-8').read()"
   ]
  },
  {
   "cell_type": "code",
   "execution_count": 47,
   "metadata": {},
   "outputs": [],
   "source": [
    "ltxt = getText_cn(textName)"
   ]
  },
  {
   "cell_type": "code",
   "execution_count": 48,
   "metadata": {},
   "outputs": [],
   "source": [
    "dtxt = count_words(ltxt)"
   ]
  },
  {
   "cell_type": "code",
   "execution_count": 49,
   "metadata": {},
   "outputs": [],
   "source": [
    "dtxt = dic_sort_ByValue(dtxt, reverse=True)"
   ]
  },
  {
   "cell_type": "code",
   "execution_count": 50,
   "metadata": {},
   "outputs": [
    {
     "name": "stdout",
     "output_type": "stream",
     "text": [
      "曰          7769\n",
      "之          2828\n",
      "也          2270\n",
      "吾          1835\n",
      "与          1748\n",
      "将          1680\n",
      "而          1635\n",
      "了          1416\n",
      "有          1405\n",
      "在          1308\n"
     ]
    }
   ],
   "source": [
    "print_topN(10, dtxt)"
   ]
  },
  {
   "cell_type": "code",
   "execution_count": null,
   "metadata": {},
   "outputs": [],
   "source": []
  }
 ],
 "metadata": {
  "kernelspec": {
   "display_name": "Python 3",
   "language": "python",
   "name": "python3"
  },
  "language_info": {
   "codemirror_mode": {
    "name": "ipython",
    "version": 3
   },
   "file_extension": ".py",
   "mimetype": "text/x-python",
   "name": "python",
   "nbconvert_exporter": "python",
   "pygments_lexer": "ipython3",
   "version": "3.7.3"
  }
 },
 "nbformat": 4,
 "nbformat_minor": 2
}
