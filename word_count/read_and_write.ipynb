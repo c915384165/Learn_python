{
 "cells": [
  {
   "cell_type": "code",
   "execution_count": 5,
   "metadata": {},
   "outputs": [],
   "source": [
    "d = {}\n",
    "for c in (65, 97):\n",
    "    for i in range(26):\n",
    "        d[chr(i+c)] = chr((i+13) % 26 + c)\n",
    "d.get('b')"
   ]
  },
  {
   "cell_type": "code",
   "execution_count": 1,
   "metadata": {},
   "outputs": [
    {
     "name": "stdout",
     "output_type": "stream",
     "text": [
      "中国是个伟大的国家\n",
      "\n"
     ]
    }
   ],
   "source": [
    "textFile = open('71.txt', 'rt')\n",
    "print(textFile.readline())\n",
    "textFile.close()"
   ]
  },
  {
   "cell_type": "code",
   "execution_count": 2,
   "metadata": {},
   "outputs": [
    {
     "name": "stdout",
     "output_type": "stream",
     "text": [
      "b'\\xe4\\xb8\\xad\\xe5\\x9b\\xbd\\xe6\\x98\\xaf\\xe4\\xb8\\xaa\\xe4\\xbc\\x9f\\xe5\\xa4\\xa7\\xe7\\x9a\\x84\\xe5\\x9b\\xbd\\xe5\\xae\\xb6\\n'\n"
     ]
    }
   ],
   "source": [
    "binFile = open('71.txt', 'rb')\n",
    "print(binFile.readline())\n",
    "binFile.close()"
   ]
  },
  {
   "cell_type": "markdown",
   "metadata": {},
   "source": [
    "## read file"
   ]
  },
  {
   "cell_type": "code",
   "execution_count": null,
   "metadata": {},
   "outputs": [],
   "source": [
    "<file>.readall() # 无法使用\n",
    "<file>.read(size=-1) # size 表示读入的字符数\n",
    "<file>.readline(size=-1) # 每次读一行，与read（）区别：到行尾了如果少于size不换行。无参数，返回行\n",
    "<file>.readlines(hint=-1) # 返回列表，hint指定每次读的长度。如果无参数，返回列表。\n",
    "<file>.seek(offset) # 改变操作指针的位置，0:开头；1:当前位置；2:结尾。"
   ]
  },
  {
   "cell_type": "code",
   "execution_count": 162,
   "metadata": {},
   "outputs": [],
   "source": [
    "textFile = open('71.txt', 'r')"
   ]
  },
  {
   "cell_type": "code",
   "execution_count": 16,
   "metadata": {},
   "outputs": [
    {
     "data": {
      "text/plain": [
       "'中国是个伟大的国家\\n中国是个伟大的国家\\n中国是个伟大的国家\\n中国是个伟大的国家\\n'"
      ]
     },
     "execution_count": 16,
     "metadata": {},
     "output_type": "execute_result"
    }
   ],
   "source": [
    "textFile.read()"
   ]
  },
  {
   "cell_type": "code",
   "execution_count": 133,
   "metadata": {},
   "outputs": [
    {
     "data": {
      "text/plain": [
       "'家\\n1:中'"
      ]
     },
     "execution_count": 133,
     "metadata": {},
     "output_type": "execute_result"
    }
   ],
   "source": [
    "textFile.read(5)"
   ]
  },
  {
   "cell_type": "code",
   "execution_count": 129,
   "metadata": {},
   "outputs": [
    {
     "data": {
      "text/plain": [
       "'家\\n'"
      ]
     },
     "execution_count": 129,
     "metadata": {},
     "output_type": "execute_result"
    }
   ],
   "source": [
    "textFile.readline(5)"
   ]
  },
  {
   "cell_type": "code",
   "execution_count": 182,
   "metadata": {},
   "outputs": [
    {
     "data": {
      "text/plain": [
       "0"
      ]
     },
     "execution_count": 182,
     "metadata": {},
     "output_type": "execute_result"
    }
   ],
   "source": [
    "textFile.seek(0)"
   ]
  },
  {
   "cell_type": "code",
   "execution_count": 185,
   "metadata": {},
   "outputs": [
    {
     "name": "stdout",
     "output_type": "stream",
     "text": [
      "['2:中国是个伟大的国家\\n', '3:中国是个伟大的国家\\n']\n"
     ]
    }
   ],
   "source": [
    "lt = textFile.readlines(12)\n",
    "print(lt)"
   ]
  },
  {
   "cell_type": "markdown",
   "metadata": {},
   "source": [
    "### 文本逐行打印"
   ]
  },
  {
   "cell_type": "code",
   "execution_count": 189,
   "metadata": {},
   "outputs": [
    {
     "name": "stdout",
     "output_type": "stream",
     "text": [
      "file name: 71.txt\n",
      "0:中国是个伟大的国家\n",
      "\n",
      "1:中国是个伟大的国家\n",
      "\n",
      "2:中国是个伟大的国家\n",
      "\n",
      "3:中国是个伟大的国家\n",
      "\n",
      "4:\n",
      "\n",
      "5:\n",
      "\n",
      "6:\n",
      "\n",
      "7:\n",
      "\n"
     ]
    }
   ],
   "source": [
    "fname = input(\"file name: \")\n",
    "fo = open(fname, 'r')\n",
    "for line in fo.readlines():\n",
    "    print(line)\n",
    "fo.close()"
   ]
  },
  {
   "cell_type": "markdown",
   "metadata": {},
   "source": [
    "#### 如果文件大，readlines会占用较多内存，可以直接使用fo，fo被当成一个行序列"
   ]
  },
  {
   "cell_type": "code",
   "execution_count": 190,
   "metadata": {},
   "outputs": [
    {
     "name": "stdout",
     "output_type": "stream",
     "text": [
      "file name: 71.txt\n",
      "0:中国是个伟大的国家\n",
      "\n",
      "1:中国是个伟大的国家\n",
      "\n",
      "2:中国是个伟大的国家\n",
      "\n",
      "3:中国是个伟大的国家\n",
      "\n",
      "4:\n",
      "\n",
      "5:\n",
      "\n",
      "6:\n",
      "\n",
      "7:\n",
      "\n"
     ]
    }
   ],
   "source": [
    "fname = input(\"file name: \")\n",
    "fo = open(fname, 'r')\n",
    "for line in fo: # fo vs fo.readlines()\n",
    "    print(line)\n",
    "fo.close()"
   ]
  },
  {
   "cell_type": "markdown",
   "metadata": {},
   "source": [
    "## write"
   ]
  },
  {
   "cell_type": "code",
   "execution_count": null,
   "metadata": {},
   "outputs": [],
   "source": [
    "<file>.write(s)\n",
    "<file>.writelines(lines)"
   ]
  },
  {
   "cell_type": "markdown",
   "metadata": {},
   "source": [
    "向文件写入一个列表"
   ]
  },
  {
   "cell_type": "code",
   "execution_count": 220,
   "metadata": {},
   "outputs": [
    {
     "name": "stdout",
     "output_type": "stream",
     "text": [
      "please input the file name: new.txt\n"
     ]
    }
   ],
   "source": [
    "fname = input(\"please input the file name: \")"
   ]
  },
  {
   "cell_type": "code",
   "execution_count": 221,
   "metadata": {},
   "outputs": [],
   "source": [
    "fo = open(fname, 'w+')"
   ]
  },
  {
   "cell_type": "code",
   "execution_count": 222,
   "metadata": {},
   "outputs": [],
   "source": [
    "ls = [\"tangshi\", \"songci\", \"yuanqu\"]"
   ]
  },
  {
   "cell_type": "code",
   "execution_count": 229,
   "metadata": {},
   "outputs": [],
   "source": [
    "# fo.writelines(ls)\n",
    "for l in ls:\n",
    "    fo.writelines(l)\n",
    "    fo.writelines(\"\\n\")"
   ]
  },
  {
   "cell_type": "code",
   "execution_count": 230,
   "metadata": {},
   "outputs": [
    {
     "data": {
      "text/plain": [
       "0"
      ]
     },
     "execution_count": 230,
     "metadata": {},
     "output_type": "execute_result"
    }
   ],
   "source": [
    "fo.seek(0)"
   ]
  },
  {
   "cell_type": "code",
   "execution_count": 231,
   "metadata": {},
   "outputs": [
    {
     "name": "stdout",
     "output_type": "stream",
     "text": [
      "tangshi\n",
      "\n",
      "songci\n",
      "\n",
      "yuanqu\n",
      "\n",
      "tangshisongciyuanqutangshi\n",
      "\n",
      "songci\n",
      "\n",
      "yuanqu\n",
      "\n"
     ]
    }
   ],
   "source": [
    "for line in fo:\n",
    "    print(line)"
   ]
  },
  {
   "cell_type": "code",
   "execution_count": 232,
   "metadata": {},
   "outputs": [],
   "source": [
    "fo.close()"
   ]
  },
  {
   "cell_type": "markdown",
   "metadata": {},
   "source": [
    "## 思考与练习"
   ]
  },
  {
   "cell_type": "markdown",
   "metadata": {},
   "source": [
    "7.1 读写文件需要采用open（）函数打开文件，采用绝对路径打开操作系统中的一个文件。"
   ]
  },
  {
   "cell_type": "code",
   "execution_count": 233,
   "metadata": {},
   "outputs": [
    {
     "name": "stdout",
     "output_type": "stream",
     "text": [
      "/Users/mac/learn/python3/word_count/new.txt\n"
     ]
    }
   ],
   "source": [
    "textName = 'new.txt'\n",
    "path = '/Users/mac/learn/python3/word_count/'\n",
    "textName = path + textName\n",
    "print(textName)"
   ]
  },
  {
   "cell_type": "code",
   "execution_count": 234,
   "metadata": {},
   "outputs": [],
   "source": [
    "fo = open(textName, 'r')"
   ]
  },
  {
   "cell_type": "code",
   "execution_count": 253,
   "metadata": {},
   "outputs": [
    {
     "data": {
      "text/plain": [
       "'tangshi\\nsongci\\nyuanqu\\ntangshisongciyuanqutangshi\\nsongci\\nyuanqu\\n'"
      ]
     },
     "execution_count": 253,
     "metadata": {},
     "output_type": "execute_result"
    }
   ],
   "source": [
    "fo.seek(0)\n",
    "\n",
    "fo.read()"
   ]
  },
  {
   "cell_type": "code",
   "execution_count": 263,
   "metadata": {},
   "outputs": [
    {
     "data": {
      "text/plain": [
       "0"
      ]
     },
     "execution_count": 263,
     "metadata": {},
     "output_type": "execute_result"
    }
   ],
   "source": [
    "fo.seek(0)"
   ]
  },
  {
   "cell_type": "code",
   "execution_count": 260,
   "metadata": {},
   "outputs": [
    {
     "data": {
      "text/plain": [
       "'tangshisongciyuanqutangshi\\n'"
      ]
     },
     "execution_count": 260,
     "metadata": {},
     "output_type": "execute_result"
    }
   ],
   "source": [
    "fo.readline()"
   ]
  },
  {
   "cell_type": "code",
   "execution_count": 264,
   "metadata": {},
   "outputs": [
    {
     "data": {
      "text/plain": [
       "['tangshi\\n',\n",
       " 'songci\\n',\n",
       " 'yuanqu\\n',\n",
       " 'tangshisongciyuanqutangshi\\n',\n",
       " 'songci\\n',\n",
       " 'yuanqu\\n']"
      ]
     },
     "execution_count": 264,
     "metadata": {},
     "output_type": "execute_result"
    }
   ],
   "source": [
    "fo.readlines()"
   ]
  },
  {
   "cell_type": "markdown",
   "metadata": {},
   "source": [
    "7.2 若文件不存在，采用读取方式时，会发生什么情况？采用写入方式时，优惠法身什么情况？"
   ]
  },
  {
   "cell_type": "markdown",
   "metadata": {},
   "source": [
    "文件不存在"
   ]
  },
  {
   "cell_type": "code",
   "execution_count": 318,
   "metadata": {},
   "outputs": [],
   "source": [
    "fileName = 'no.txt'"
   ]
  },
  {
   "cell_type": "code",
   "execution_count": 319,
   "metadata": {},
   "outputs": [],
   "source": [
    "fo = open(fileName, 'r+')"
   ]
  },
  {
   "cell_type": "code",
   "execution_count": 297,
   "metadata": {},
   "outputs": [],
   "source": [
    "fo = open(fileName, 'a')"
   ]
  },
  {
   "cell_type": "code",
   "execution_count": 321,
   "metadata": {},
   "outputs": [
    {
     "data": {
      "text/plain": [
       "6"
      ]
     },
     "execution_count": 321,
     "metadata": {},
     "output_type": "execute_result"
    }
   ],
   "source": [
    "fo.write('string')\n"
   ]
  },
  {
   "cell_type": "code",
   "execution_count": 322,
   "metadata": {},
   "outputs": [
    {
     "data": {
      "text/plain": [
       "'stringstringstringstringstring'"
      ]
     },
     "execution_count": 322,
     "metadata": {},
     "output_type": "execute_result"
    }
   ],
   "source": [
    "fo.seek(0)\n",
    "fo.read()"
   ]
  },
  {
   "cell_type": "code",
   "execution_count": 323,
   "metadata": {},
   "outputs": [],
   "source": [
    "fo.close()"
   ]
  },
  {
   "cell_type": "markdown",
   "metadata": {},
   "source": [
    "7.3 如何从文件中读取30个字符"
   ]
  },
  {
   "cell_type": "code",
   "execution_count": 327,
   "metadata": {},
   "outputs": [
    {
     "data": {
      "text/plain": [
       "'1234567890 1234567890 1234567890 1234567'"
      ]
     },
     "execution_count": 327,
     "metadata": {},
     "output_type": "execute_result"
    }
   ],
   "source": [
    "fileName = 'no.txt'\n",
    "fo = open(fileName, 'r')\n",
    "fo.seek(0)\n",
    "fo.read(40)"
   ]
  },
  {
   "cell_type": "markdown",
   "metadata": {},
   "source": [
    "7.5 打开系统文件"
   ]
  },
  {
   "cell_type": "code",
   "execution_count": 328,
   "metadata": {},
   "outputs": [],
   "source": [
    "textName = 'znew'\n",
    "path = '/usr/bin/'\n",
    "textName = path + textName"
   ]
  },
  {
   "cell_type": "code",
   "execution_count": 329,
   "metadata": {},
   "outputs": [],
   "source": [
    "fo = open(textName, 'r')"
   ]
  },
  {
   "cell_type": "code",
   "execution_count": 333,
   "metadata": {},
   "outputs": [
    {
     "data": {
      "text/plain": [
       "['#!/bin/sh -\\n',\n",
       " '#\\n',\n",
       " '# $NetBSD: znew,v 1.3 2008/04/27 09:07:13 nakayama Exp $\\n',\n",
       " '# $OpenBSD: znew,v 1.2 2003/08/05 18:22:17 deraadt Exp $\\n',\n",
       " '#\\n',\n",
       " '#-\\n',\n",
       " '# Copyright (c) 2003 Otto Moerbeek <otto@drijf.net>\\n',\n",
       " '#\\n',\n",
       " '# Permission to use, copy, modify, and distribute this software for any\\n',\n",
       " '# purpose with or without fee is hereby granted, provided that the above\\n',\n",
       " '# copyright notice and this permission notice appear in all copies.\\n',\n",
       " '#\\n',\n",
       " '# THE SOFTWARE IS PROVIDED \"AS IS\" AND THE AUTHOR DISCLAIMS ALL WARRANTIES\\n',\n",
       " '# WITH REGARD TO THIS SOFTWARE INCLUDING ALL IMPLIED WARRANTIES OF\\n',\n",
       " '# MERCHANTABILITY AND FITNESS. IN NO EVENT SHALL THE AUTHOR BE LIABLE FOR\\n',\n",
       " '# ANY SPECIAL, DIRECT, INDIRECT, OR CONSEQUENTIAL DAMAGES OR ANY DAMAGES\\n',\n",
       " '# WHATSOEVER RESULTING FROM LOSS OF USE, DATA OR PROFITS, WHETHER IN AN\\n',\n",
       " '# ACTION OF CONTRACT, NEGLIGENCE OR OTHER TORTIOUS ACTION, ARISING OUT OF\\n',\n",
       " '# OR IN CONNECTION WITH THE USE OR PERFORMANCE OF THIS SOFTWARE.\\n',\n",
       " '#\\n',\n",
       " '# $FreeBSD: src/usr.bin/gzip/znew,v 1.3 2008/06/30 23:53:15 delphij Exp $\\n',\n",
       " '\\n',\n",
       " '# Return 0 if the first arg file size is smaller than the second, 1 otherwise.\\n',\n",
       " 'smaller () {\\n',\n",
       " '\\ta=`du -k \"$1\" | awk \\'{ print $1 }\\'`\\n',\n",
       " '\\tb=`du -k \"$2\" | awk \\'{ print $1 }\\'`\\n',\n",
       " '\\ttest $a -lt $b\\n',\n",
       " '}\\n',\n",
       " '\\n',\n",
       " '# Check gzip integrity if the -t flag is specified\\n',\n",
       " 'checkfile () {\\n',\n",
       " '\\tif test $tflag -eq 1; then\\n',\n",
       " '\\t\\tgzip -qt < \"$1\"\\n',\n",
       " '\\tfi\\n',\n",
       " '}\\n',\n",
       " '\\n',\n",
       " '# Decompress a file and then gzip it\\n',\n",
       " 'process () {\\n',\n",
       " '\\tprefix=\"${1%.Z}\"\\n',\n",
       " '\\tfilez=\"$prefix\".Z\\n',\n",
       " '\\tfilegz=\"$prefix\".gz\\n',\n",
       " '\\n',\n",
       " '\\tif test ! -e \"$filez\"; then\\n',\n",
       " '\\t\\techo \"$prog: $filez does not exist\"\\n',\n",
       " '\\t\\treturn 1\\n',\n",
       " '\\tfi\\n',\n",
       " '\\tif test ! -f \"$filez\"; then\\n',\n",
       " '\\t\\techo \"$prog: $filez is not a regular file\"\\n',\n",
       " '\\t\\treturn 1\\n',\n",
       " '\\tfi\\n',\n",
       " '\\tif test -e \"$filegz\" -a $fflag -eq 0; then\\n',\n",
       " '\\t\\techo \"$prog: $filegz already exists\"\\n',\n",
       " '\\t\\treturn 1\\n',\n",
       " '\\tfi\\n',\n",
       " '\\n',\n",
       " '\\ttmp=`mktemp /tmp/znewXXXXXXXXXX` || {\\n',\n",
       " '\\t\\techo \"$prog: cannot create tmp file\"\\n',\n",
       " '\\t\\treturn 1\\n',\n",
       " '\\t}\\n',\n",
       " '\\ttrap \\'rm -f \"$tmp\"; exit 1\\' HUP INT QUIT PIPE TERM\\n',\n",
       " '\\n',\n",
       " '\\t# Do the actual work, producing a file \"$tmp\"\\n',\n",
       " '\\tif uncompress -f -c < \"$filez\" | gzip -f -c $gzipflags > \"$tmp\"; then\\n',\n",
       " '\\t\\tif test $kflag -eq 1 && smaller \"$filez\" \"$tmp\"; then\\n',\n",
       " '\\t\\t\\techo -n \"$prog: $filez is smaller than $filegz\"\\n',\n",
       " '\\t\\t\\techo \"; keeping it\"\\n',\n",
       " '\\t\\t\\trm -f \"$tmp\"\\n',\n",
       " '\\t\\t\\treturn 0\\n',\n",
       " '\\t\\tfi\\n',\n",
       " '\\t\\tif ! checkfile \"$tmp\"; then\\n',\n",
       " '\\t\\t\\techo \"$prog: integrity check of $tmp failed\"\\n',\n",
       " '\\t\\t\\trm -f \"$tmp\"\\n',\n",
       " '\\t\\t\\treturn 1;\\n',\n",
       " '\\t\\tfi\\n',\n",
       " '\\n',\n",
       " '\\t\\t# Try to keep the mode of the original file\\n',\n",
       " '\\t\\tif ! cp -fp \"$filez\" \"$filegz\"; then\\n',\n",
       " '\\t\\t\\techo \"$prog: warning: could not keep mode of $filez\"\\n',\n",
       " '\\t\\tfi\\n',\n",
       " '\\t\\tif  ! cp \"$tmp\" \"$filegz\" 2> /dev/null; then\\n',\n",
       " '\\t\\t\\techo \"$prog: warning: could not keep mode of $filez\"\\n',\n",
       " '\\t\\t\\tif ! cp -f \"$tmp\" \"$filegz\" 2> /dev/null; then\\n',\n",
       " '\\t\\t\\t\\techo \"$prog: could not copy $tmp to $filegz\"\\n',\n",
       " '\\t\\t\\t\\trm -f \"$filegz\" \"$tmp\"\\n',\n",
       " '\\t\\t\\t\\treturn 1\\n',\n",
       " '\\t\\t\\tfi\\n',\n",
       " '\\t\\tfi\\n',\n",
       " '\\t\\tif ! touch -fr \"$filez\" \"$filegz\"; then\\n',\n",
       " '\\t\\t\\techo -n \"$prog: warning: could not keep timestamp of \"\\n',\n",
       " '\\t\\t\\techo \"$filez\"\\n',\n",
       " '\\t\\tfi\\n',\n",
       " '\\t\\trm -f \"$filez\" \"$tmp\"\\n',\n",
       " '\\telse\\n',\n",
       " '\\t\\techo \"$prog: failed to process $filez\"\\n',\n",
       " '\\t\\trm -f \"$tmp\"\\n',\n",
       " '\\t\\treturn 1\\n',\n",
       " '\\tfi\\n',\n",
       " '}\\n',\n",
       " '\\n',\n",
       " 'prog=`basename \"$0\"`\\n',\n",
       " 'usage=\"usage: $prog [-ftv9K] file ...\"\\n',\n",
       " '\\n',\n",
       " 'fflag=0\\n',\n",
       " 'tflag=0\\n',\n",
       " 'kflag=0\\n',\n",
       " 'gzipflags=\\n',\n",
       " '\\n',\n",
       " '# -P flag is recognized to maintain compatibility, but ignored. Pipe mode is\\n',\n",
       " '# always used\\n',\n",
       " 'while getopts :ftv9PK i; do\\n',\n",
       " '\\tcase $i in\\n',\n",
       " '\\t\\tf) fflag=1;;\\n',\n",
       " '\\t\\tt) tflag=1;;\\n',\n",
       " '\\t\\tv) gzipflags=\"-v $gzipflags\";;\\n',\n",
       " '\\t\\t9) gzipflags=\"-9 $gzipflags\";;\\n',\n",
       " '\\t\\tP) ;;\\n',\n",
       " '\\t\\tK) kflag=1;;\\n',\n",
       " '\\t\\t\\\\?) echo \"$usage\"; exit 1;;\\n',\n",
       " '\\tesac\\n',\n",
       " 'done\\n',\n",
       " '\\n',\n",
       " 'shift $((OPTIND - 1))\\n',\n",
       " '\\n',\n",
       " 'if test $# -eq 0; then\\n',\n",
       " '\\techo \"$usage\"\\n',\n",
       " '\\texit 1\\n',\n",
       " 'fi\\n',\n",
       " '\\n',\n",
       " 'rc=0\\n',\n",
       " '\\n',\n",
       " 'while test $# -ne 0; do\\n',\n",
       " '\\tif ! process \"$1\"; then\\n',\n",
       " '\\t\\trc=$?\\n',\n",
       " '\\tfi\\n',\n",
       " '\\tshift\\n',\n",
       " 'done\\n',\n",
       " 'exit $rc\\n']"
      ]
     },
     "execution_count": 333,
     "metadata": {},
     "output_type": "execute_result"
    }
   ],
   "source": [
    "fo.seek(0)\n",
    "fo.readlines()"
   ]
  },
  {
   "cell_type": "code",
   "execution_count": null,
   "metadata": {},
   "outputs": [],
   "source": []
  }
 ],
 "metadata": {
  "kernelspec": {
   "display_name": "Python 3",
   "language": "python",
   "name": "python3"
  },
  "language_info": {
   "codemirror_mode": {
    "name": "ipython",
    "version": 3
   },
   "file_extension": ".py",
   "mimetype": "text/x-python",
   "name": "python",
   "nbconvert_exporter": "python",
   "pygments_lexer": "ipython3",
   "version": "3.7.2"
  }
 },
 "nbformat": 4,
 "nbformat_minor": 2
}
