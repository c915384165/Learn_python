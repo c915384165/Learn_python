{
 "cells": [
  {
   "cell_type": "code",
   "execution_count": 1,
   "metadata": {},
   "outputs": [],
   "source": [
    "# 文件接口 csv"
   ]
  },
  {
   "cell_type": "code",
   "execution_count": 2,
   "metadata": {},
   "outputs": [],
   "source": [
    "import csv"
   ]
  },
  {
   "cell_type": "markdown",
   "metadata": {},
   "source": [
    "包含3部门\n",
    "\n",
    "* csv 模块\n",
    "* reader类\n",
    "* writer类\n",
    "\n",
    "词典相关\n",
    "\n",
    "* DictReader类\n",
    "* DictWriter类\n",
    "\n"
   ]
  },
  {
   "cell_type": "markdown",
   "metadata": {},
   "source": [
    "csv.reader(csvfile, dialect='excel', **fmtparams)\n"
   ]
  },
  {
   "cell_type": "code",
   "execution_count": 4,
   "metadata": {},
   "outputs": [
    {
     "name": "stdout",
     "output_type": "stream",
     "text": [
      "/Users/mac/learn/python3/CSV\n"
     ]
    }
   ],
   "source": [
    "cd CSV"
   ]
  },
  {
   "cell_type": "code",
   "execution_count": 5,
   "metadata": {},
   "outputs": [
    {
     "name": "stdout",
     "output_type": "stream",
     "text": [
      "CSV.ipynb  csv.csv\r\n"
     ]
    }
   ],
   "source": [
    "ls"
   ]
  },
  {
   "cell_type": "code",
   "execution_count": 8,
   "metadata": {},
   "outputs": [
    {
     "name": "stdout",
     "output_type": "stream",
     "text": [
      "城市,环比,同比,定基\n",
      "北京,101.5,120.7,121.4\n",
      "上海,101.2,127.3,127.8\n",
      "广州,101.3,119.4,120.0\n",
      "深圳,103.0,140.9,145.5\n",
      "沈阳,100.1,101.4,101.6\n"
     ]
    }
   ],
   "source": [
    "file_name = 'csv.csv'\n",
    "with open(file_name, newline='') as csv_file:\n",
    "    spamreader = csv.reader(csv_file, delimiter=' ', quotechar='|')\n",
    "    for row in spamreader:\n",
    "        print(','.join(row))"
   ]
  },
  {
   "cell_type": "code",
   "execution_count": 43,
   "metadata": {},
   "outputs": [],
   "source": [
    "filename = 'csv.csv'\n",
    "fo = open(filename, 'r', newline='')"
   ]
  },
  {
   "cell_type": "code",
   "execution_count": 44,
   "metadata": {},
   "outputs": [
    {
     "name": "stdout",
     "output_type": "stream",
     "text": [
      "城市,环比,同比,定基\r\n",
      "\n",
      "北京,101.5,120.7,121.4\r\n",
      "\n",
      "上海,101.2,127.3,127.8\r\n",
      "\n",
      "广州,101.3,119.4,120.0\r\n",
      "\n",
      "深圳,103.0,140.9,145.5\r\n",
      "\n",
      "沈阳,100.1,101.4,101.6\r\n",
      "\n"
     ]
    }
   ],
   "source": [
    "for row in fo:\n",
    "    print(row)\n",
    "fo.close()"
   ]
  },
  {
   "cell_type": "code",
   "execution_count": 67,
   "metadata": {},
   "outputs": [
    {
     "ename": "SyntaxError",
     "evalue": "invalid syntax (<ipython-input-67-dedd974421da>, line 4)",
     "output_type": "error",
     "traceback": [
      "\u001b[0;36m  File \u001b[0;32m\"<ipython-input-67-dedd974421da>\"\u001b[0;36m, line \u001b[0;32m4\u001b[0m\n\u001b[0;31m    reader = csv.reader(fo, delimiter=',', doublequote=False, escapechar=,quotechar=\"'\") # delimiter 分隔符\u001b[0m\n\u001b[0m                                                                         ^\u001b[0m\n\u001b[0;31mSyntaxError\u001b[0m\u001b[0;31m:\u001b[0m invalid syntax\n"
     ]
    }
   ],
   "source": [
    "filename = 'csv.csv'\n",
    "fo = open(filename)\n",
    "# fo = open(filename, 'r', newline='')\n",
    "reader = csv.reader(fo, delimiter=',', doublequote=False, escapechar=,quotechar=\"'\") # delimiter 分隔符\n",
    "for row in reader:\n",
    "    print(row)\n",
    "fo.close()"
   ]
  },
  {
   "cell_type": "code",
   "execution_count": 55,
   "metadata": {},
   "outputs": [],
   "source": [
    "filename = 'csv.csv'\n",
    "fo = open(filename, 'r', newline='')\n",
    "reader = csv.reader(fo, delimiter=' ') # delimiter 分隔符\n",
    "\n",
    "for row in reader:\n",
    "    print(row)\n",
    "fo.close()"
   ]
  },
  {
   "cell_type": "code",
   "execution_count": 68,
   "metadata": {},
   "outputs": [],
   "source": [
    "def csv_interface(filename):\n",
    "    ls = []\n",
    "    with open(filename,'r', newline='') as fo:\n",
    "        reader = csv.reader(fo, dialect='excel', delimiter=',')\n",
    "        for row in reader:\n",
    "            ls.append(row)\n",
    "    return ls"
   ]
  },
  {
   "cell_type": "code",
   "execution_count": 69,
   "metadata": {},
   "outputs": [
    {
     "data": {
      "text/plain": [
       "[['城市', '环比', '同比', '定基'],\n",
       " ['北京', '101.5', '120.7', '121.4'],\n",
       " ['上海', '101.2', '127.3', '127.8'],\n",
       " ['广州', '101.3', '119.4', '120.0'],\n",
       " ['深圳', '103.0', '140.9', '145.5'],\n",
       " ['沈阳', '100.1', '101.4', '101.6']]"
      ]
     },
     "execution_count": 69,
     "metadata": {},
     "output_type": "execute_result"
    }
   ],
   "source": [
    "csv_interface('csv.csv')"
   ]
  },
  {
   "cell_type": "code",
   "execution_count": 70,
   "metadata": {},
   "outputs": [
    {
     "data": {
      "text/plain": [
       "['excel', 'excel-tab', 'unix']"
      ]
     },
     "execution_count": 70,
     "metadata": {},
     "output_type": "execute_result"
    }
   ],
   "source": [
    "csv.list_dialects()"
   ]
  },
  {
   "cell_type": "code",
   "execution_count": 140,
   "metadata": {},
   "outputs": [],
   "source": [
    "file_name = 'names.csv'\n",
    "fo = open(file_name, 'w')\n",
    "fo.write(\"first_name, last_name\\n\")\n",
    "fo.close()"
   ]
  },
  {
   "cell_type": "code",
   "execution_count": 141,
   "metadata": {},
   "outputs": [
    {
     "name": "stdout",
     "output_type": "stream",
     "text": [
      "CSV.ipynb  csv.csv    names.csv\r\n"
     ]
    }
   ],
   "source": [
    "ls"
   ]
  },
  {
   "cell_type": "code",
   "execution_count": 142,
   "metadata": {},
   "outputs": [],
   "source": [
    "file_name = 'names.csv'\n",
    "fo = open(file_name, 'a+', newline='')\n",
    "fo.write(\"last_name, Cleese\"+\"\\n\")\n",
    "fo.close()"
   ]
  },
  {
   "cell_type": "code",
   "execution_count": 143,
   "metadata": {},
   "outputs": [
    {
     "name": "stdout",
     "output_type": "stream",
     "text": [
      "first_name, last_name\n",
      "\n",
      "last_name, Cleese\n",
      "\n"
     ]
    }
   ],
   "source": [
    "fo = open(file_name)\n",
    "for row in fo:\n",
    "    print(row)"
   ]
  },
  {
   "cell_type": "code",
   "execution_count": 144,
   "metadata": {},
   "outputs": [
    {
     "name": "stdout",
     "output_type": "stream",
     "text": [
      "last_name Cleese\n"
     ]
    }
   ],
   "source": [
    "import csv\n",
    "with open('names.csv', newline='') as csvfile:\n",
    "    reader = csv.DictReader(csvfile, skipinitialspace=True)\n",
    "    for row in reader:\n",
    "        print(row['first_name'], row['last_name'])"
   ]
  },
  {
   "cell_type": "code",
   "execution_count": 124,
   "metadata": {},
   "outputs": [],
   "source": [
    "import csv\n",
    "\n",
    "with open('names.csv', 'w', newline='') as csvfile:\n",
    "    fieldnames = ['first_name', 'last_name']\n",
    "    writer = csv.DictWriter(csvfile, fieldnames=fieldnames)\n",
    "\n",
    "    writer.writeheader()\n",
    "    writer.writerow({'first_name': 'Baked', 'last_name': 'Beans'})\n",
    "    writer.writerow({'first_name': 'Lovely', 'last_name': 'Spam'})\n",
    "    writer.writerow({'first_name': 'Wonderful', 'last_name': 'Spam'})"
   ]
  },
  {
   "cell_type": "code",
   "execution_count": 128,
   "metadata": {},
   "outputs": [
    {
     "name": "stdout",
     "output_type": "stream",
     "text": [
      "first_name,last_name\n",
      "\n",
      "Baked,Beans\n",
      "\n",
      "Lovely,Spam\n",
      "\n",
      "Wonderful,Spam\n",
      "\n"
     ]
    }
   ],
   "source": [
    "with open('names.csv') as csvfile:\n",
    "    for line in csvfile:\n",
    "        print(line)\n",
    "    "
   ]
  },
  {
   "cell_type": "code",
   "execution_count": null,
   "metadata": {},
   "outputs": [],
   "source": []
  }
 ],
 "metadata": {
  "kernelspec": {
   "display_name": "Python 3",
   "language": "python",
   "name": "python3"
  },
  "language_info": {
   "codemirror_mode": {
    "name": "ipython",
    "version": 3
   },
   "file_extension": ".py",
   "mimetype": "text/x-python",
   "name": "python",
   "nbconvert_exporter": "python",
   "pygments_lexer": "ipython3",
   "version": "3.7.2"
  }
 },
 "nbformat": 4,
 "nbformat_minor": 2
}
